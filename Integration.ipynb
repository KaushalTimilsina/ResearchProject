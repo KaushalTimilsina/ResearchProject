{
 "cells": [
  {
   "cell_type": "markdown",
   "id": "6db00454-a318-46ca-8d74-7c33ec39f5a9",
   "metadata": {},
   "source": [
    "# Comparison of the magnitude of Power emitted by the body, Power reflected by the body and Power from the atmosphere"
   ]
  },
  {
   "cell_type": "markdown",
   "id": "8d16fa26-7368-4a4d-916b-cb55eed76ed4",
   "metadata": {},
   "source": [
    "## -1. Scrap work"
   ]
  },
  {
   "cell_type": "code",
   "execution_count": 1,
   "id": "5cb4ce34-ff25-4a73-b182-4a05fd3c3080",
   "metadata": {},
   "outputs": [],
   "source": [
    "####################################\n",
    "# Import sympy and define a symbol T\n",
    "###################################\n",
    "\n",
    "from sympy import Symbol\n",
    "T = Symbol('T')"
   ]
  },
  {
   "cell_type": "markdown",
   "id": "d4048591-b803-4fda-a924-ffb89855f98e",
   "metadata": {},
   "source": [
    "We have the expression for the \n",
    "$$B\\left(\\lambda, T\\right) = \\frac{2 h c^{2}}{\\lambda^5} \\frac{1}{\\mathrm{exp} \\left(\\frac{h c}{\\lambda k T}\\right) - 1}$$"
   ]
  },
  {
   "cell_type": "code",
   "execution_count": 6,
   "id": "f2c2c636-eadd-4679-bfe1-491c95bb226b",
   "metadata": {},
   "outputs": [],
   "source": [
    "def function(x):\n",
    "    return x * 2\n",
    "def function_2(f, y):\n",
    "    return f(y)"
   ]
  },
  {
   "cell_type": "code",
   "execution_count": 7,
   "id": "fb2c1dc4-82ed-451d-8d39-63682c8eb765",
   "metadata": {},
   "outputs": [
    {
     "data": {
      "text/plain": [
       "21.0"
      ]
     },
     "execution_count": 7,
     "metadata": {},
     "output_type": "execute_result"
    }
   ],
   "source": [
    "function_2(function, 10.5)"
   ]
  },
  {
   "cell_type": "markdown",
   "id": "c9fc492b-dc7f-4c1f-9083-f40591884a10",
   "metadata": {},
   "source": [
    "## 0. Imports"
   ]
  },
  {
   "cell_type": "code",
   "execution_count": 2,
   "id": "c24cea2c-5f8d-4bf5-8e35-1210899ba660",
   "metadata": {},
   "outputs": [],
   "source": [
    "import numpy as np"
   ]
  },
  {
   "cell_type": "markdown",
   "id": "20e8e7dd-5e39-48db-8787-e2675266ff3e",
   "metadata": {},
   "source": [
    "## 1. Numerical Integration Functions"
   ]
  },
  {
   "cell_type": "markdown",
   "id": "22eed8f0-1e78-4e94-9c1f-768322c634ed",
   "metadata": {},
   "source": [
    "### 1.1. The Trapezoidal Integration Method\n",
    "We want to define a function that performs the approximation using the Trapezoidal rule\n",
    "$$\\displaystyle \\int_{x_0}^{x_N} f (x) d x \\approx \\frac{\\Delta x}{2} \\Big( f (x_0) + 2 f (x_1) + 2 f (x_2) + \\dots + 2 f (x_{N-1}) + f (x_N) \\Big)$$\n",
    "where \n",
    "$$x_k = x_{k-1} + \\frac{x_N - x_0}{N}$$\n",
    "and \n",
    "$$\\Delta x = \\frac{x_N - x_0}{N}$$"
   ]
  },
  {
   "cell_type": "code",
   "execution_count": 16,
   "id": "510e9e33-9247-4f0f-8b70-abc5bd0476d5",
   "metadata": {},
   "outputs": [],
   "source": [
    "##################################\n",
    "# Define the Trapezoidal integraion\n",
    "##################################\n",
    "# Copied from stack overflow but fairly simple\n",
    "\n",
    "def trapezoidal(f, x_0, x_N, N):\n",
    "    delta_x = float(x_N - x_0) / N\n",
    "    sum = 0.0\n",
    "\n",
    "    # For x_0\n",
    "    sum += f(x_0)/2.0\n",
    "\n",
    "    # For x_1 to x_{N-1}\n",
    "    for i in range(1, N):\n",
    "        x_k = x_0 + i * delta_x\n",
    "        sum += f(x_k)\n",
    "\n",
    "    # For x_N\n",
    "    sum += f(x_N)/2.0\n",
    "    \n",
    "    sum = sum * delta_x\n",
    "    \n",
    "    return sum"
   ]
  },
  {
   "cell_type": "markdown",
   "id": "6d719c8f-6f65-48f7-bf03-9b4fb0dc02ef",
   "metadata": {},
   "source": [
    "### 1.1.1 Tests for the trapezoidal function.\n",
    "We check the following integrals\n",
    "$$\\displaystyle \\int_{1}^{2} e^x d x = e^2 - e^1 \\approx 4.67077$$\n",
    "$$\\displaystyle \\int_{2}^{3} x e^x d x = 2 e^3 - e^2 \\approx 32.78202$$\n",
    "$$\\displaystyle \\int_{2}^{3} x^3 d x = \\frac{3^4 - 2^4}{4} = 16.25 $$"
   ]
  },
  {
   "cell_type": "code",
   "execution_count": 17,
   "id": "6a7504e7-e229-4ecf-b88f-8db051445622",
   "metadata": {},
   "outputs": [
    {
     "name": "stdout",
     "output_type": "stream",
     "text": [
      "Integral 1 = 4.670774659702784\n",
      "Integral 2 = 32.782022595359464\n",
      "Integral 3 = 16.250001250000008\n"
     ]
    }
   ],
   "source": [
    "N = 1000\n",
    "\n",
    "#####################################\n",
    "#### TEST 1 ########################\n",
    "#####################################\n",
    "\n",
    "test_1_string = r'''\n",
    "    $$\\displaystyle \\int_{1}^{2} e^x d x =$$\n",
    "'''\n",
    "\n",
    "def integrand_1(x):\n",
    "    return np.exp(x)\n",
    "\n",
    "test_1_value = trapezoidal(integrand_1, 1, 2, N)\n",
    "\n",
    "# print(f'{test_1_string} {test_1_value}')\n",
    "print(f'Integral 1 = {test_1_value}')\n",
    "\n",
    "#####################################\n",
    "#### TEST 2 ########################\n",
    "#####################################\n",
    "\n",
    "test_2_string = r'''\n",
    "    $$\\displaystyle \\int_{2}^{3} x e^x d x = $$\n",
    "'''\n",
    "\n",
    "def integrand_2(x):\n",
    "    return x*np.exp(x)\n",
    "\n",
    "test_2_value = trapezoidal(integrand_2, 2, 3, N)\n",
    "\n",
    "# print(f'{test_2_string} {test_2_value}')\n",
    "print(f'Integral 2 = {test_2_value}')\n",
    "\n",
    "\n",
    "\n",
    "#####################################\n",
    "#### TEST 3 ########################\n",
    "#####################################\n",
    "\n",
    "test_3_string = r'''\n",
    "    $$\\displaystyle \\int_{2}^{3} x^3 d x = $$\n",
    "'''\n",
    "\n",
    "def integrand_3(x):\n",
    "    return x**3\n",
    "\n",
    "test_3_value = trapezoidal(integrand_3, 2, 3, N)\n",
    "\n",
    "# print(f'{test_3_string} {test_3_value}')\n",
    "print(f'Integral 3 = {test_3_value}')\n",
    "\n",
    "\n",
    "####################################\n",
    "#### LOOKS GOOD! ##################\n",
    "###################################"
   ]
  },
  {
   "cell_type": "markdown",
   "id": "2db88f02-a5fb-4dba-bd08-00c314b3c7ee",
   "metadata": {},
   "source": [
    "### 1.2. The Simpson 1/3 Integration Method\n",
    "We want to define a function that performs the approximation using Simpson's 1/3 rule\n",
    "$$\\displaystyle \\int_{x_0}^{x_N} f (x) d x \\approx \\frac{\\Delta x}{3} \\Big( f (x_0) + 4 f (x_1) + 2 f (x_2) + 4 f (x_3) + 2 f (x_4) + \\dots + 4 f (x_{N-3})+ 2 f (x_{N-2}) + 4 f (x_{N-1}) + f (x_N) \\Big)$$\n",
    "where \n",
    "$x_k$ and $\\Delta x$ are the same as that in Trapezoidal rule (Section 1.1) and $N \\: \\textbf{is even!}$"
   ]
  },
  {
   "cell_type": "code",
   "execution_count": 32,
   "id": "1caf2248-f052-40aa-8ffb-d3fd15a800c8",
   "metadata": {},
   "outputs": [],
   "source": [
    "##################################\n",
    "# Define the Simpson's 1/3 integraion\n",
    "##################################\n",
    "# Modified from trapezoidal\n",
    "\n",
    "def Simpson_13(f, x_0, x_N, N):\n",
    "\n",
    "    if N % 2 != 0:\n",
    "        raise Exception('N (the number of intervals) needs to be divisible by 2 (even)')\n",
    "        \n",
    "    delta_x = float(x_N - x_0) / N\n",
    "    sum = 0.0\n",
    "\n",
    "    # For x_0\n",
    "    sum += f(x_0)/3.0\n",
    "\n",
    "    # For x_1 to x_{N-1}\n",
    "    for i in range(1, N):\n",
    "        if i%2 == 1: \n",
    "            sum += 4/3.0 * f(x_0 + i * delta_x)\n",
    "        else:\n",
    "            sum += 2/3.0 * f(x_0 + i * delta_x)\n",
    "\n",
    "    # For x_N\n",
    "    sum += f(x_N)/3.0\n",
    "\n",
    "    sum = sum * delta_x\n",
    "    \n",
    "    return sum"
   ]
  },
  {
   "cell_type": "markdown",
   "id": "75a9f4e3-e753-487f-a09b-9c796169f02c",
   "metadata": {},
   "source": [
    "### 1.2.1 Tests for Simpson's 1/3 rule.\n",
    "We do the calculations for the same expressions as that for the Trapezoidal rule (Section 1.1, 1.1.1)"
   ]
  },
  {
   "cell_type": "code",
   "execution_count": 35,
   "id": "cac109c3-baaf-4ba5-b7a6-ddd962c46a59",
   "metadata": {},
   "outputs": [
    {
     "name": "stdout",
     "output_type": "stream",
     "text": [
      "Integral 1 = 4.670774270471628\n",
      "Integral 2 = 32.78201774744518\n",
      "Integral 3 = 16.250000000000014\n"
     ]
    }
   ],
   "source": [
    "#######################################\n",
    "#### Remember N needs to be even ##############\n",
    "######################################\n",
    "N = 1000\n",
    "\n",
    "#####################################\n",
    "#### TEST 1 ########################\n",
    "#####################################\n",
    "\n",
    "test_1_string = r'''\n",
    "    $$\\displaystyle \\int_{1}^{2} e^x d x =$$\n",
    "'''\n",
    "\n",
    "def integrand_1(x):\n",
    "    return np.exp(x)\n",
    "\n",
    "test_1_value = Simpson_13(integrand_1, 1, 2, N)\n",
    "\n",
    "# print(f'{test_1_string} {test_1_value}')\n",
    "print(f'Integral 1 = {test_1_value}')\n",
    "\n",
    "#####################################\n",
    "#### TEST 2 ########################\n",
    "#####################################\n",
    "\n",
    "test_2_string = r'''\n",
    "    $$\\displaystyle \\int_{2}^{3} x e^x d x = $$\n",
    "'''\n",
    "\n",
    "def integrand_2(x):\n",
    "    return x*np.exp(x)\n",
    "\n",
    "test_2_value = Simpson_13(integrand_2, 2, 3, N)\n",
    "\n",
    "# print(f'{test_2_string} {test_2_value}')\n",
    "print(f'Integral 2 = {test_2_value}')\n",
    "\n",
    "\n",
    "\n",
    "#####################################\n",
    "#### TEST 3 ########################\n",
    "#####################################\n",
    "\n",
    "test_3_string = r'''\n",
    "    $$\\displaystyle \\int_{2}^{3} x^3 d x = $$\n",
    "'''\n",
    "\n",
    "def integrand_3(x):\n",
    "    return x**3\n",
    "\n",
    "test_3_value = Simpson_13(integrand_3, 2, 3, N)\n",
    "\n",
    "# print(f'{test_3_string} {test_3_value}')\n",
    "print(f'Integral 3 = {test_3_value}')\n",
    "\n",
    "\n",
    "####################################\n",
    "#### LOOKS GOOD! ##################\n",
    "###################################"
   ]
  },
  {
   "cell_type": "markdown",
   "id": "4c209e75-2a29-49a2-bec1-792382636be2",
   "metadata": {},
   "source": [
    "### 1.3. The Simpson 3/8 Integration Method\n",
    "We want to define a function that performs the approximation using Simpson's 3/8 rule\n",
    "$$\\displaystyle \\int_{x_0}^{x_1} f (x) d x \\approx \\frac{3 \\Delta x}{8} \\Big( f (x_0) + 3 f (x_1) + 3 f (x_2) + 2 f (x_3) + 3 f (x_4) + 3 f (x_5) + 2 f (x_6) + \\dots + 3 f (x_{N-5}) + 3 f (x_{N-4}) + 2 f (x_{N-3}) + 3 f (x_{N-2})+ 3 f (x_{N-1}) + f (x_N) \\Big)$$\n",
    "where \n",
    "$x_k$ and $\\Delta x$ are the same as that in Trapezoidal rule (Section 1.1) and $N \\: \\textbf{is divisible by 3!}$"
   ]
  },
  {
   "cell_type": "code",
   "execution_count": 39,
   "id": "00385745-a9f5-4f36-8ac5-76ca7cdf6501",
   "metadata": {},
   "outputs": [],
   "source": [
    "##################################\n",
    "# Define the Simpson's 1/3 integraion\n",
    "##################################\n",
    "# Modified from trapezoidal\n",
    "\n",
    "def Simpson_38(f, x_0, x_N, N):\n",
    "\n",
    "    if N % 3 != 0:\n",
    "        raise Exception('N (the number of intervals) needs to be divisible by 3')\n",
    "        \n",
    "    delta_x = float(x_N - x_0) / N\n",
    "    sum = 0.0\n",
    "\n",
    "    # For x_0\n",
    "    sum += 3 * f(x_0)/8.0\n",
    "\n",
    "    # For x_1 to x_{N-1}\n",
    "    for i in range(1, N):\n",
    "        if i%3 != 0: \n",
    "            sum += 3 * 3 * f(x_0 + i * delta_x) / 8.0\n",
    "        else:\n",
    "            sum += 3 * 2 * f(x_0 + i * delta_x) / 8.0\n",
    "\n",
    "    # For x_N\n",
    "    sum += 3 * f(x_N)/8.0\n",
    "\n",
    "    sum = sum * delta_x\n",
    "    \n",
    "    return sum"
   ]
  },
  {
   "cell_type": "markdown",
   "id": "ace37f9d-171f-4abd-9279-f327d59fe6b8",
   "metadata": {},
   "source": [
    "### 1.3.1 Tests for Simpson's 3/8 rule.\n",
    "We do the calculations for the same expressions as that for the Trapezoidal rule (Section 1.1, 1.1.1)"
   ]
  },
  {
   "cell_type": "code",
   "execution_count": 41,
   "id": "d2203b05-5b0e-4fd9-aedd-d13d1e218ccd",
   "metadata": {},
   "outputs": [
    {
     "name": "stdout",
     "output_type": "stream",
     "text": [
      "Integral 1 = 4.670774270471601\n",
      "Integral 2 = 32.782017747444755\n",
      "Integral 3 = 16.24999999999996\n"
     ]
    }
   ],
   "source": [
    "#######################################\n",
    "#### Remember N needs to be divisible by 3 ##############\n",
    "######################################\n",
    "N = 9999\n",
    "\n",
    "#####################################\n",
    "#### TEST 1 ########################\n",
    "#####################################\n",
    "\n",
    "test_1_string = r'''\n",
    "    $$\\displaystyle \\int_{1}^{2} e^x d x =$$\n",
    "'''\n",
    "\n",
    "def integrand_1(x):\n",
    "    return np.exp(x)\n",
    "\n",
    "test_1_value = Simpson_38(integrand_1, 1, 2, N)\n",
    "\n",
    "# print(f'{test_1_string} {test_1_value}')\n",
    "print(f'Integral 1 = {test_1_value}')\n",
    "\n",
    "#####################################\n",
    "#### TEST 2 ########################\n",
    "#####################################\n",
    "\n",
    "test_2_string = r'''\n",
    "    $$\\displaystyle \\int_{2}^{3} x e^x d x = $$\n",
    "'''\n",
    "\n",
    "def integrand_2(x):\n",
    "    return x*np.exp(x)\n",
    "\n",
    "test_2_value = Simpson_38(integrand_2, 2, 3, N)\n",
    "\n",
    "# print(f'{test_2_string} {test_2_value}')\n",
    "print(f'Integral 2 = {test_2_value}')\n",
    "\n",
    "\n",
    "\n",
    "#####################################\n",
    "#### TEST 3 ########################\n",
    "#####################################\n",
    "\n",
    "test_3_string = r'''\n",
    "    $$\\displaystyle \\int_{2}^{3} x^3 d x = $$\n",
    "'''\n",
    "\n",
    "def integrand_3(x):\n",
    "    return x**3\n",
    "\n",
    "test_3_value = Simpson_38(integrand_3, 2, 3, N)\n",
    "\n",
    "# print(f'{test_3_string} {test_3_value}')\n",
    "print(f'Integral 3 = {test_3_value}')\n",
    "\n",
    "\n",
    "####################################\n",
    "#### LOOKS GOOD! ##################\n",
    "###################################"
   ]
  },
  {
   "cell_type": "markdown",
   "id": "23f926e6-9fbf-4032-9ddb-d4a008edf855",
   "metadata": {},
   "source": [
    "## 2. Numerical integration with symbolic expressions"
   ]
  },
  {
   "cell_type": "markdown",
   "id": "52ce9d5d-80b6-44c0-8433-761aa5eb82e1",
   "metadata": {},
   "source": [
    "### 2.1 Expression for Planck's Law\n",
    "I was confused by $2 \\pi$ and factors of $c$'s and the various quantities discussed in representation of the Planck distribution. To avoid confusion, now I am following the notaion and expressions used in:\n",
    "\n",
    "$\\textbf{6. Electromagnetic raditaion. AST1100 – Introduction to astrophysics, Lecture Notes. University of Oslo}$\n",
    "\n",
    "$$\\displaystyle B(\\nu, T) = \\frac{2 h \\nu^3}{c^2} \\frac{1}{\\displaystyle \\mathrm{exp} \\: \\left(\\frac{h \\nu}{k_B T}\\right) - 1}$$\n",
    "\n",
    "The quantity $B(\\nu, T)$, $\\textbf{The Spectral Intensity}$ is defined such that,\n",
    "$$\\Delta E = B(\\lambda) \\mathrm{cos} \\theta \\Delta \\nu \\Delta A \\Delta \\Omega \\Delta t$$\n",
    "\n",
    "is the small energy passing through a small area $\\Delta A$ into a small solid\n",
    "angle $\\Delta \\Omega$ per small time interval $\\Delta t$ in the small frequency range $\\left[\\nu, \\nu + \\Delta \\nu \\right]$. Intensity is measured in units of W m$^{-2}$ sr$^{-1}$ Hz$^{-1}$\n",
    "\n",
    "Some other quantities are often defined.\n",
    "1. Flux (or total Flux)\n",
    "\n",
    "$$F = \\frac{d E}{d A \\: d t}$$\n",
    "\n",
    "continue quantities on page 9 of the lecture notes.\n",
    "\n",
    "The The quantity $B(\\lambda, T)$, The Spectral Intensity as a function of the wavelength is obtained from $B(\\nu, T)$, and is given by\n",
    "$$\\displaystyle B(\\lambda, T) = \\frac{2 h c^2}{\\lambda^5} \\frac{1}{\\displaystyle \\mathrm{exp} \\: \\left(\\frac{h c}{\\lambda k_B T}\\right) - 1}$$"
   ]
  },
  {
   "cell_type": "markdown",
   "id": "3703dd65-43df-4f51-97c3-53eb6e078dd1",
   "metadata": {},
   "source": [
    "#### 2.1.1 Defining the Constants\n",
    "Let's take the following values.\n",
    "$$h = 6.62607015 \\times 10^{-34} \\: \\mathrm{J \\: Hz}^{-1}$$\n",
    "taken from the Wikipedia article on: Planck Constant \n",
    "$$c = 2.99792458 \\times 10^{8} \\: \\mathrm{m \\: s}^{-1} $$\n",
    "taken from the  Wikipedia article on: Speed of Light\n",
    "$$k_B = 1.380649 \\times 10^{-23} \\: \\mathrm{J \\: K}^{-1}$$\n",
    "taken from the Wikipedia article on: Boltzmann constant \n",
    "$$c_{1L} = 2 \\times 6.62607015 \\times 10^{-34} \\: \\mathrm{J \\: Hz}^{-1} \\times  \\left( 2.99792458 \\times 10^{8} \\: \\mathrm{m \\: s}^{-1} \\right)^2 = 1.1910429723971884 \\times 10^{-16} \\: \\mathrm{J \\: s}^{-1} \\: \\mathrm{m}^2$$\n",
    "$$c_2 = \\frac{6.62607015 \\times 10^{-34} \\: \\mathrm{J \\: Hz}^{-1} \\times 2.99792458 \\times 10^{8} \\: \\mathrm{m \\: s}^{-1}}{1.380649 \\times 10{-23} \\: \\mathrm{J \\: K}^{-1}} = 1.4387768775039337 \\times 10^{-2} \\: \\mathrm{K \\: Hz \\: m \\: s}^{-1}$$"
   ]
  },
  {
   "cell_type": "code",
   "execution_count": 12,
   "id": "ea099cf3-c05b-46d2-b574-874f6520ed92",
   "metadata": {},
   "outputs": [],
   "source": [
    "#########################\n",
    "# 1. Planck Constant ###\n",
    "#########################\n",
    "h = 6.62607015 * (10**(-34))\n",
    "\n",
    "##########################\n",
    "# 2. Speed of Light ####\n",
    "##########################\n",
    "c = 2.99792458 * (10**(8))\n",
    "\n",
    "##########################\n",
    "# 3. Boltzmann constant\n",
    "#########################\n",
    "k_B = 1.380649 * (10**(-23))\n",
    "\n",
    "###########################\n",
    "# 4. First radiation constant in SI Units\n",
    "###########################\n",
    "c_1L = 2 * h * c**2\n",
    "\n",
    "###########################\n",
    "# 4. Second radiation constant\n",
    "###########################\n",
    "c_2 =  h * c / k_B"
   ]
  },
  {
   "cell_type": "markdown",
   "id": "d5a3b4ca-c99e-4ab8-835d-46ed307b28ee",
   "metadata": {},
   "source": [
    "#### 2.1.1 Define "
   ]
  },
  {
   "cell_type": "code",
   "execution_count": null,
   "id": "656861e3-d44b-4d31-9793-64f946b1a5f3",
   "metadata": {},
   "outputs": [],
   "source": []
  }
 ],
 "metadata": {
  "kernelspec": {
   "display_name": "Python 3 (ipykernel)",
   "language": "python",
   "name": "python3"
  },
  "language_info": {
   "codemirror_mode": {
    "name": "ipython",
    "version": 3
   },
   "file_extension": ".py",
   "mimetype": "text/x-python",
   "name": "python",
   "nbconvert_exporter": "python",
   "pygments_lexer": "ipython3",
   "version": "3.10.12"
  }
 },
 "nbformat": 4,
 "nbformat_minor": 5
}
