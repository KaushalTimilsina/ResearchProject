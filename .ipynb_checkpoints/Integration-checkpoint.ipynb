{
 "cells": [
  {
   "cell_type": "markdown",
   "id": "6db00454-a318-46ca-8d74-7c33ec39f5a9",
   "metadata": {},
   "source": [
    "# Comparison of the magnitude of Power emitted by the body, Power reflected by the body and Power from the atmosphere"
   ]
  },
  {
   "cell_type": "markdown",
   "id": "d4048591-b803-4fda-a924-ffb89855f98e",
   "metadata": {},
   "source": [
    "We have the expression for the \n",
    "$$B\\left(\\lambda, T\\right) = \\frac{2 h c^{2}}{\\lambda^5} \\frac{1}{\\mathrm{exp} \\left(\\frac{h c}{\\lambda k T}\\right) - 1}$$"
   ]
  },
  {
   "cell_type": "code",
   "execution_count": 8,
   "id": "5cb4ce34-ff25-4a73-b182-4a05fd3c3080",
   "metadata": {},
   "outputs": [],
   "source": [
    "####################################\n",
    "# Import sympy and define a symbol T\n",
    "###################################\n",
    "\n",
    "from sympy import Symbol\n",
    "T = Symbol('T')"
   ]
  },
  {
   "cell_type": "code",
   "execution_count": 6,
   "id": "f2c2c636-eadd-4679-bfe1-491c95bb226b",
   "metadata": {},
   "outputs": [],
   "source": [
    "def function(x):\n",
    "    return x * 2\n",
    "def function_2(f, y):\n",
    "    return f(y)"
   ]
  },
  {
   "cell_type": "code",
   "execution_count": 7,
   "id": "fb2c1dc4-82ed-451d-8d39-63682c8eb765",
   "metadata": {},
   "outputs": [
    {
     "data": {
      "text/plain": [
       "21.0"
      ]
     },
     "execution_count": 7,
     "metadata": {},
     "output_type": "execute_result"
    }
   ],
   "source": [
    "function_2(function, 10.5)"
   ]
  },
  {
   "cell_type": "markdown",
   "id": "20e8e7dd-5e39-48db-8787-e2675266ff3e",
   "metadata": {},
   "source": [
    "## 1. Numerical Integration Functions"
   ]
  },
  {
   "cell_type": "markdown",
   "id": "22eed8f0-1e78-4e94-9c1f-768322c634ed",
   "metadata": {},
   "source": [
    "### 1.1. The Trapezoidal Integration Method\n",
    "We want to define a function that performs the approximation using the Trapezoidal rule\n",
    "$$\\displaystyle \\int_{x_0}^{x_1} f (x) d x \\approx \\frac{\\Delta x}{2} \\Big( f (x_0) + 2 f (x_1) + 2 f (x_2) + \\dots + 2 f (x_{N-1}) + f (x_N) \\Big)$$\n",
    "where \n",
    "$$x_k = x_{k-1} + \\frac{x_N - x_0}{N}$$"
   ]
  },
  {
   "cell_type": "code",
   "execution_count": 23,
   "id": "510e9e33-9247-4f0f-8b70-abc5bd0476d5",
   "metadata": {},
   "outputs": [],
   "source": [
    "##################################\n",
    "# Define the Trapezoidal integraion\n",
    "##################################\n",
    "# Copied from stack overflow but fairly simple\n",
    "\n",
    "def trapezoidal(f, x0, xN, N):\n",
    "    h = float(xN - x0) / N\n",
    "    s = 0.0\n",
    "    s += f(x0)/2.0\n",
    "    for i in range(1, N):\n",
    "        s += f(x0 + i*h)\n",
    "    s += f(xN)/2.0\n",
    "    return s * h"
   ]
  },
  {
   "cell_type": "markdown",
   "id": "2db88f02-a5fb-4dba-bd08-00c314b3c7ee",
   "metadata": {},
   "source": [
    "### 1.2. The Simpson 1/3 Integration Method\n",
    "We want to define a function that performs the approximation using Simpson's 1/3 rule\n",
    "$$\\displaystyle \\int_{x_0}^{x_1} f (x) d x \\approx \\frac{\\Delta x}{3} \\Big( f (x_0) + 4 f (x_1) + 2 f (x_2), + 4 f (x_3) + 2 f (x_4), \\dots ,+ 4 f (x_{N-2})+ 2 f (x_{N-1}) + f (x_N) \\Big)$$\n",
    "where \n",
    "$$x_k = x_{k-1} + \\frac{x_N - x_0}{N}$$"
   ]
  },
  {
   "cell_type": "code",
   "execution_count": 24,
   "id": "1caf2248-f052-40aa-8ffb-d3fd15a800c8",
   "metadata": {},
   "outputs": [],
   "source": [
    "##################################\n",
    "# Define the Simpson's 1/3 integraion\n",
    "##################################\n",
    "# Modified from trapezoidal\n",
    "\n",
    "def Simpson_13(f, x0, xN, N):\n",
    "    h = float(xN - x0) / N\n",
    "    s = 0.0\n",
    "    s += f(x0)/3.0\n",
    "    for i in range(1, N):\n",
    "        if i%2 == 1: \n",
    "            s += 4/3.0 * f(x0 + i*h)\n",
    "        else:\n",
    "            s += 2/3.0 * f(x0 + i*h)\n",
    "    s += f(xN)/3.0\n",
    "    return s * h"
   ]
  },
  {
   "cell_type": "markdown",
   "id": "4c209e75-2a29-49a2-bec1-792382636be2",
   "metadata": {},
   "source": [
    "### 1.3. The Simpson 3/8 Integration Method\n",
    "We want to define a function that performs the approximation using Simpson's 3/8 rule\n",
    "$$\\displaystyle \\int_{x_0}^{x_1} f (x) d x \\approx \\frac{3 \\Delta x}{8} \\Big( f (x_0) + 3 f (x_1) + 3 f (x_2) + 2 f (x_3), + 3 f (x_4) + 3 f (x_5) + 2 f (x_6), + \\dots ,+ 2 f x_{N-3}) + 3 f (x_{N-2})+ 3 f (x_{N-1}) + f (x_N) \\Big)$$\n",
    "where \n",
    "$$x_k = x_{k-1} + \\frac{x_N - x_0}{N}$$"
   ]
  },
  {
   "cell_type": "code",
   "execution_count": 25,
   "id": "00385745-a9f5-4f36-8ac5-76ca7cdf6501",
   "metadata": {},
   "outputs": [],
   "source": [
    "##################################\n",
    "# Define the Simpson's 1/3 integraion\n",
    "##################################\n",
    "# Modified from trapezoidal\n",
    "\n",
    "def Simpson_38(f, x0, xN, N):\n",
    "    h = float(xN - x0) / N\n",
    "    s = 0.0\n",
    "    s += 3 * f(x0)/8.0\n",
    "    for i in range(1, N):\n",
    "        if i%3 != 0: \n",
    "            s += 3 * f(x0 + i*h)\n",
    "        else:\n",
    "            s += 2 * f(x0 + i*h)\n",
    "    s += 3 * f(xN)/8.0\n",
    "    return s * h"
   ]
  },
  {
   "cell_type": "code",
   "execution_count": 18,
   "id": "f5e012a8-9cb1-4ecf-84f9-2834c3cf4fe7",
   "metadata": {},
   "outputs": [
    {
     "data": {
      "text/plain": [
       "0"
      ]
     },
     "execution_count": 18,
     "metadata": {},
     "output_type": "execute_result"
    }
   ],
   "source": []
  },
  {
   "cell_type": "code",
   "execution_count": null,
   "id": "d2203b05-5b0e-4fd9-aedd-d13d1e218ccd",
   "metadata": {},
   "outputs": [],
   "source": []
  }
 ],
 "metadata": {
  "kernelspec": {
   "display_name": "Python 3 (ipykernel)",
   "language": "python",
   "name": "python3"
  },
  "language_info": {
   "codemirror_mode": {
    "name": "ipython",
    "version": 3
   },
   "file_extension": ".py",
   "mimetype": "text/x-python",
   "name": "python",
   "nbconvert_exporter": "python",
   "pygments_lexer": "ipython3",
   "version": "3.10.12"
  }
 },
 "nbformat": 4,
 "nbformat_minor": 5
}
